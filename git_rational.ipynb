{
 "metadata": {
  "name": "",
  "signature": "sha256:d02dc5e57d6bf0fd1bd4cb67a208c5a8874ca70510a84886a2d131a1fcc41693"
 },
 "nbformat": 3,
 "nbformat_minor": 0,
 "worksheets": [
  {
   "cells": [
    {
     "cell_type": "code",
     "collapsed": false,
     "input": [
      "!git --version"
     ],
     "language": "python",
     "metadata": {},
     "outputs": [
      {
       "output_type": "stream",
       "stream": "stdout",
       "text": [
        "git version 1.9.2.msysgit.0\n"
       ]
      }
     ],
     "prompt_number": 2
    },
    {
     "cell_type": "code",
     "collapsed": false,
     "input": [
      "!git"
     ],
     "language": "python",
     "metadata": {},
     "outputs": [
      {
       "output_type": "stream",
       "stream": "stdout",
       "text": [
        "usage: git [--version] [--help] [-C <path>] [-c name=value]\n",
        "           [--exec-path[=<path>]] [--html-path] [--man-path] [--info-path]\n",
        "           [-p|--paginate|--no-pager] [--no-replace-objects] [--bare]\n",
        "           [--git-dir=<path>] [--work-tree=<path>] [--namespace=<name>]\n",
        "           <command> [<args>]\n",
        "\n",
        "The most commonly used git commands are:\n",
        "   add        Add file contents to the index\n",
        "   bisect     Find by binary search the change that introduced a bug\n",
        "   branch     List, create, or delete branches\n",
        "   checkout   Checkout a branch or paths to the working tree\n",
        "   clone      Clone a repository into a new directory\n",
        "   commit     Record changes to the repository\n",
        "   diff       Show changes between commits, commit and working tree, etc\n",
        "   fetch      Download objects and refs from another repository\n",
        "   grep       Print lines matching a pattern\n",
        "   init       Create an empty Git repository or reinitialize an existing one\n",
        "   log        Show commit logs\n",
        "   merge      Join two or more development histories together\n",
        "   mv         Move or rename a file, a directory, or a symlink\n",
        "   pull       Fetch from and integrate with another repository or a local branch\n",
        "   push       Update remote refs along with associated objects\n",
        "   rebase     Forward-port local commits to the updated upstream head\n",
        "   reset      Reset current HEAD to the specified state\n",
        "   rm         Remove files from the working tree and from the index\n",
        "   show       Show various types of objects\n",
        "   status     Show the working tree status\n",
        "   tag        Create, list, delete or verify a tag object signed with GPG\n",
        "\n",
        "'git help -a' and 'git help -g' lists available subcommands and some\n",
        "concept guides. See 'git help <command>' or 'git help <concept>'\n",
        "to read about a specific subcommand or concept.\n"
       ]
      }
     ],
     "prompt_number": 3
    },
    {
     "cell_type": "code",
     "collapsed": false,
     "input": [
      "%load .gitignore"
     ],
     "language": "python",
     "metadata": {},
     "outputs": [],
     "prompt_number": 4
    },
    {
     "cell_type": "code",
     "collapsed": false,
     "input": [
      "\n",
      "## Directory-based project format:\n",
      ".idea/\n",
      ".ipynb_checkpoints/\n",
      "\n",
      "# Byte-compiled / optimized / DLL files\n",
      "__pycache__/\n",
      "*.py[cod]\n"
     ],
     "language": "python",
     "metadata": {},
     "outputs": []
    },
    {
     "cell_type": "markdown",
     "metadata": {},
     "source": [
      "#Project Content"
     ]
    },
    {
     "cell_type": "code",
     "collapsed": false,
     "input": [
      "from IPython.display import FileLink, FileLinks\n",
      "FileLinks('.')"
     ],
     "language": "python",
     "metadata": {},
     "outputs": [
      {
       "html": [
        "./<br>\n",
        "&nbsp;&nbsp;<a href='./.gitignore' target='_blank'>.gitignore</a><br>\n",
        "&nbsp;&nbsp;<a href='./git_rational.ipynb' target='_blank'>git_rational.ipynb</a><br>\n",
        "&nbsp;&nbsp;<a href='./load_ipynb.bat' target='_blank'>load_ipynb.bat</a><br>\n",
        "&nbsp;&nbsp;<a href='./rational.py' target='_blank'>rational.py</a><br>\n",
        ".\\.idea/<br>\n",
        "&nbsp;&nbsp;<a href='./.idea/.name' target='_blank'>.name</a><br>\n",
        "&nbsp;&nbsp;<a href='./.idea/ArmRational.iml' target='_blank'>ArmRational.iml</a><br>\n",
        "&nbsp;&nbsp;<a href='./.idea/encodings.xml' target='_blank'>encodings.xml</a><br>\n",
        "&nbsp;&nbsp;<a href='./.idea/misc.xml' target='_blank'>misc.xml</a><br>\n",
        "&nbsp;&nbsp;<a href='./.idea/modules.xml' target='_blank'>modules.xml</a><br>\n",
        "&nbsp;&nbsp;<a href='./.idea/vcs.xml' target='_blank'>vcs.xml</a><br>\n",
        "&nbsp;&nbsp;<a href='./.idea/workspace.xml' target='_blank'>workspace.xml</a><br>\n",
        ".\\.idea\\scopes/<br>\n",
        "&nbsp;&nbsp;<a href='./.idea/scopes/scope_settings.xml' target='_blank'>scope_settings.xml</a><br>\n",
        ".\\.ipynb_checkpoints/<br>\n",
        "&nbsp;&nbsp;<a href='./.ipynb_checkpoints/git-checkpoint.ipynb' target='_blank'>git-checkpoint.ipynb</a><br>\n",
        "&nbsp;&nbsp;<a href='./.ipynb_checkpoints/git_rational-checkpoint.ipynb' target='_blank'>git_rational-checkpoint.ipynb</a><br>"
       ],
       "metadata": {},
       "output_type": "pyout",
       "prompt_number": 6,
       "text": [
        "./\n",
        "  .gitignore\n",
        "  git_rational.ipynb\n",
        "  load_ipynb.bat\n",
        "  rational.py\n",
        ".\\.idea/\n",
        "  .name\n",
        "  ArmRational.iml\n",
        "  encodings.xml\n",
        "  misc.xml\n",
        "  modules.xml\n",
        "  vcs.xml\n",
        "  workspace.xml\n",
        ".\\.idea\\scopes/\n",
        "  scope_settings.xml\n",
        ".\\.ipynb_checkpoints/\n",
        "  git-checkpoint.ipynb\n",
        "  git_rational-checkpoint.ipynb"
       ]
      }
     ],
     "prompt_number": 6
    },
    {
     "cell_type": "markdown",
     "metadata": {},
     "source": [
      "#Rational class from standard lib"
     ]
    },
    {
     "cell_type": "markdown",
     "metadata": {},
     "source": [
      "```python\n",
      ">>> from fractions import Fraction\n",
      ">>> Fraction(16, -10)\n",
      "Fraction(-8, 5)\n",
      ">>> Fraction(123)\n",
      "Fraction(123, 1)\n",
      ">>> Fraction()\n",
      "Fraction(0, 1)\n",
      ">>> Fraction('3/7')\n",
      "Fraction(3, 7)\n",
      ">>> Fraction(' -3/7 ')\n",
      "Fraction(-3, 7)\n",
      ">>> Fraction('1.414213 \\t\\n')\n",
      "Fraction(1414213, 1000000)\n",
      ">>> Fraction('-.125')\n",
      "Fraction(-1, 8)\n",
      ">>> Fraction('7e-6')\n",
      "Fraction(7, 1000000)\n",
      ">>> Fraction(2.25)\n",
      "Fraction(9, 4)\n",
      "```"
     ]
    },
    {
     "cell_type": "code",
     "collapsed": false,
     "input": [],
     "language": "python",
     "metadata": {},
     "outputs": []
    }
   ],
   "metadata": {}
  }
 ]
}